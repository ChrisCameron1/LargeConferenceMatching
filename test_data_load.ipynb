{
 "cells": [
  {
   "cell_type": "code",
   "execution_count": 2,
   "metadata": {},
   "outputs": [
    {
     "name": "stdout",
     "output_type": "stream",
     "text": [
      "The autoreload extension is already loaded. To reload it, use:\n",
      "  %reload_ext autoreload\n"
     ]
    }
   ],
   "source": [
    "%load_ext autoreload\n",
    "%autoreload 2\n",
    "import yaml\n",
    "import pandas as pd\n",
    "import logging\n",
    "from matching_ilp_refactor import MatchingILP\n",
    "from lp_solver import solve\n",
    "import json\n",
    "from importlib import reload\n",
    "import compute_scores\n",
    "import create_indicator"
   ]
  },
  {
   "cell_type": "code",
   "execution_count": 3,
   "metadata": {},
   "outputs": [],
   "source": [
    "logging.basicConfig(level=logging.INFO,format='%(asctime)s, %(levelname)s, %(message)s')\n",
    "console_handler = logging.StreamHandler()\n",
    "console_handler.setLevel(logging.INFO)\n",
    "logger = logging.getLogger(\"NB\")"
   ]
  },
  {
   "cell_type": "code",
   "execution_count": 4,
   "metadata": {},
   "outputs": [],
   "source": [
    "reload(compute_scores)\n",
    "from compute_scores import compute_scores\n",
    "\n",
    "co_review_vars=None\n",
    "with open('ilp_config_refactor.yml', 'rb') as fh:\n",
    "    config = yaml.load(fh,Loader=yaml.FullLoader)\n",
    "    \n",
    "scores_df = compute_scores(config)\n",
    "bids_df = pd.read_csv(config['BIDS_FILE']).set_index(['paper','reviewer'])"
   ]
  },
  {
   "cell_type": "code",
   "execution_count": 5,
   "metadata": {},
   "outputs": [],
   "source": [
    "reviewer_df = pd.read_csv(config['REVIEWERS_FILE']).set_index('reviewer')\n",
    "reviewer_df['conflict_papers'] = reviewer_df['conflict_papers'].apply(lambda x: json.loads(x))\n",
    "reviewer_df['authored'] = reviewer_df['authored'].apply(lambda x: json.loads(x))"
   ]
  },
  {
   "cell_type": "code",
   "execution_count": 6,
   "metadata": {},
   "outputs": [],
   "source": [
    "reviewers = reviewer_df.index.values\n",
    "papers = scores_df.index.unique('paper').values\n",
    "missing_reviewers = set(scores_df.index.unique('reviewer')) - set(reviewers)"
   ]
  },
  {
   "cell_type": "code",
   "execution_count": 7,
   "metadata": {},
   "outputs": [],
   "source": [
    "scores_df = scores_df[~scores_df.index.get_level_values('reviewer').isin(list(missing_reviewers))]"
   ]
  },
  {
   "cell_type": "code",
   "execution_count": 8,
   "metadata": {},
   "outputs": [
    {
     "name": "stderr",
     "output_type": "stream",
     "text": [
      "/global/scratch/chrisc/projects/AAAI21_Matching/aaai21/create_indicator.py:22: SettingWithCopyWarning: \n",
      "A value is trying to be set on a copy of a slice from a DataFrame.\n",
      "Try using .loc[row_indexer,col_indexer] = value instead\n",
      "\n",
      "See the caveats in the documentation: https://pandas.pydata.org/pandas-docs/stable/user_guide/indexing.html#returning-a-view-versus-a-copy\n",
      "  scores_df['role'] = scores_df.apply(lambda row: reviewer_df.loc[row.name[1],'role'],axis=1)\n",
      "Adding best papers for reviewers: 100%|██████████| 9796/9796 [00:53<00:00, 183.10it/s]\n",
      "Adding best reviewers for papers: 100%|██████████| 8676/8676 [01:59<00:00, 72.50it/s]\n"
     ]
    }
   ],
   "source": [
    "reload(create_indicator)\n",
    "from create_indicator import create_paper_reviewer_df\n",
    "paper_reviewer_df = create_paper_reviewer_df(scores_df=scores_df, \n",
    "                reviewer_df=reviewer_df,\n",
    "                bids_df=bids_df, \n",
    "                k=10,\n",
    "                score_threshold=0.15)"
   ]
  },
  {
   "cell_type": "code",
   "execution_count": 9,
   "metadata": {},
   "outputs": [],
   "source": [
    "paper_reviewer_df = paper_reviewer_df.rename(columns={'agg_score':'score'})"
   ]
  },
  {
   "cell_type": "code",
   "execution_count": null,
   "metadata": {},
   "outputs": [],
   "source": [
    "distance_df = pd.read_csv(config['COAUTHOR_DISTANCE_FILE'])"
   ]
  },
  {
   "cell_type": "code",
   "execution_count": 16,
   "metadata": {},
   "outputs": [],
   "source": [
    "import matching_ilp_refactor\n",
    "reload(matching_ilp_refactor)\n",
    "from matching_ilp_refactor import MatchingILP\n",
    "ilp = MatchingILP(paper_reviewer_df,reviewer_df,distance_df,config,co_review_vars,basename='test',add_soft_constraints=True)\n",
    "ilp.add_paper_distribution_constraints_obj_limits(role='SPC',num_papers_list=[8,12,16,20,24])"
   ]
  },
  {
   "cell_type": "code",
   "execution_count": 17,
   "metadata": {},
   "outputs": [
    {
     "name": "stderr",
     "output_type": "stream",
     "text": [
      "2021-09-24 13:39:30,258, INFO, Reviewer matching objective\n",
      "2021-09-24 13:40:01,153, INFO, Paper capacity\n",
      "Building paper capacity constraints...: 100%|██████████| 8617/8617 [03:01<00:00, 47.61it/s]\n",
      "2021-09-24 13:43:02,171, INFO, Reviewer capacity\n",
      "Building reviewer capacity constraints...: 9796it [00:39, 247.73it/s]\n",
      "2021-09-24 13:43:41,722, INFO, Coreview Constraints\n",
      "2021-09-24 13:43:41,724, WARNING, Co review var empty. Not adding any coreview constraints\n",
      "2021-09-24 13:43:41,726, INFO, Co-author distance Objective\n",
      "2021-09-24 13:43:41,728, WARNING, Co review var empty. Cannot contruct coauthor distance constraints\n",
      "2021-09-24 13:43:41,730, INFO, Seniority Objectives\n",
      "Building seniority constraints...: 100%|██████████| 8617/8617 [00:56<00:00, 152.38it/s]\n",
      "2021-09-24 13:44:38,288, INFO, Region Objective\n",
      "2021-09-24 13:44:38,298, INFO, Region Constraints and bounds\n",
      "2021-09-24 13:45:52,125, INFO, Cycle Bounds\n",
      "Building bidding cycles...: 9554it [06:55, 23.00it/s] \n",
      "2021-09-24 13:52:50,622, INFO, Start writing! Phew!\n",
      "2021-09-24 14:04:30,739, INFO, Wrote out test.lp to file\n",
      "2021-09-24 14:04:32,670, INFO, End writing! Phew!\n"
     ]
    }
   ],
   "source": [
    "problem_path = ilp.create_ilp()"
   ]
  },
  {
   "cell_type": "code",
   "execution_count": 18,
   "metadata": {},
   "outputs": [
    {
     "name": "stdout",
     "output_type": "stream",
     "text": [
      "Status 101: integer optimal solution\n",
      "Objective 21893.346000016376\n",
      "Wrote solution to test.sol\n"
     ]
    }
   ],
   "source": [
    "solution_file = solve(problem_path=problem_path)"
   ]
  }
 ],
 "metadata": {
  "kernelspec": {
   "display_name": "Python 3",
   "language": "python",
   "name": "python3"
  },
  "language_info": {
   "codemirror_mode": {
    "name": "ipython",
    "version": 3
   },
   "file_extension": ".py",
   "mimetype": "text/x-python",
   "name": "python",
   "nbconvert_exporter": "python",
   "pygments_lexer": "ipython3",
   "version": "3.7.4"
  }
 },
 "nbformat": 4,
 "nbformat_minor": 4
}
